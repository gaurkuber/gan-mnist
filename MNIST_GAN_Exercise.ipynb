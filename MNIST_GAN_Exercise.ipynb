{
 "cells": [
  {
   "cell_type": "markdown",
   "metadata": {},
   "source": [
    "# Generative Adversarial Network\n",
    "\n",
    "In this notebook, we'll be building a generative adversarial network (GAN) trained on the MNIST dataset. From this, we'll be able to generate new handwritten digits!\n",
    "\n",
    "GANs were [first reported on](https://arxiv.org/abs/1406.2661) in 2014 from Ian Goodfellow and others in Yoshua Bengio's lab. Since then, GANs have exploded in popularity. Here are a few examples to check out:\n",
    "\n",
    "* [Pix2Pix](https://affinelayer.com/pixsrv/) \n",
    "* [CycleGAN & Pix2Pix in PyTorch, Jun-Yan Zhu](https://github.com/junyanz/pytorch-CycleGAN-and-pix2pix)\n",
    "* [A list of generative models](https://github.com/wiseodd/generative-models)\n",
    "\n",
    "The idea behind GANs is that you have two networks, a generator $G$ and a discriminator $D$, competing against each other. The generator makes \"fake\" data to pass to the discriminator. The discriminator also sees real training data and predicts if the data it's received is real or fake. \n",
    "> * The generator is trained to fool the discriminator, it wants to output data that looks _as close as possible_ to real, training data. \n",
    "* The discriminator is a classifier that is trained to figure out which data is real and which is fake. \n",
    "\n",
    "What ends up happening is that the generator learns to make data that is indistinguishable from real data to the discriminator.\n",
    "\n",
    "<img src='assets/gan_pipeline.png' width=70% />\n",
    "\n",
    "The general structure of a GAN is shown in the diagram above, using MNIST images as data. The latent sample is a random vector that the generator uses to construct its fake images. This is often called a **latent vector** and that vector space is called **latent space**. As the generator trains, it figures out how to map latent vectors to recognizable images that can fool the discriminator.\n",
    "\n",
    "If you're interested in generating only new images, you can throw out the discriminator after training. In this notebook, I'll show you how to define and train these adversarial networks in PyTorch and generate new images!"
   ]
  },
  {
   "cell_type": "code",
   "execution_count": 4,
   "metadata": {
    "collapsed": true
   },
   "outputs": [],
   "source": [
    "%matplotlib inline\n",
    "\n",
    "import numpy as np\n",
    "import torch\n",
    "import matplotlib.pyplot as plt"
   ]
  },
  {
   "cell_type": "code",
   "execution_count": 2,
   "metadata": {},
   "outputs": [
    {
     "name": "stdout",
     "output_type": "stream",
     "text": [
      "Downloading http://yann.lecun.com/exdb/mnist/train-images-idx3-ubyte.gz\n",
      "Downloading http://yann.lecun.com/exdb/mnist/train-labels-idx1-ubyte.gz\n",
      "Downloading http://yann.lecun.com/exdb/mnist/t10k-images-idx3-ubyte.gz\n",
      "Downloading http://yann.lecun.com/exdb/mnist/t10k-labels-idx1-ubyte.gz\n",
      "Processing...\n",
      "Done!\n"
     ]
    }
   ],
   "source": [
    "from torchvision import datasets\n",
    "import torchvision.transforms as transforms\n",
    "\n",
    "# number of subprocesses to use for data loading\n",
    "num_workers = 0\n",
    "# how many samples per batch to load\n",
    "batch_size = 64\n",
    "\n",
    "# convert data to torch.FloatTensor\n",
    "transform = transforms.ToTensor()\n",
    "\n",
    "# get the training datasets\n",
    "train_data = datasets.MNIST(root='data', train=True,\n",
    "                                   download=True, transform=transform)\n",
    "\n",
    "# prepare data loader\n",
    "train_loader = torch.utils.data.DataLoader(train_data, batch_size=batch_size,\n",
    "                                           num_workers=num_workers)"
   ]
  },
  {
   "cell_type": "markdown",
   "metadata": {},
   "source": [
    "### Visualize the data"
   ]
  },
  {
   "cell_type": "code",
   "execution_count": 3,
   "metadata": {},
   "outputs": [
    {
     "data": {
      "text/plain": [
       "<matplotlib.image.AxesImage at 0x12199dc3860>"
      ]
     },
     "execution_count": 3,
     "metadata": {},
     "output_type": "execute_result"
    },
    {
     "data": {
      "image/png": "[encoded data removed]",
      "text/plain": [
       "<matplotlib.figure.Figure at 0x121947910b8>"
      ]
     },
     "metadata": {},
     "output_type": "display_data"
    }
   ],
   "source": [
    "# obtain one batch of training images\n",
    "dataiter = iter(train_loader)\n",
    "images, labels = dataiter.next()\n",
    "images = images.numpy()\n",
    "\n",
    "# get one image from the batch\n",
    "img = np.squeeze(images[0])\n",
    "\n",
    "fig = plt.figure(figsize = (3,3)) \n",
    "ax = fig.add_subplot(111)\n",
    "ax.imshow(img, cmap='gray')"
   ]
  },
  {
   "cell_type": "markdown",
   "metadata": {},
   "source": [
    "---\n",
    "# Define the Model\n",
    "\n",
    "A GAN is comprised of two adversarial networks, a discriminator and a generator."
   ]
  },
  {
   "cell_type": "markdown",
   "metadata": {},
   "source": [
    "## Discriminator\n",
    "\n",
    "The discriminator network is going to be a pretty typical linear classifier. To make this network a universal function approximator, we'll need at least one hidden layer, and these hidden layers should have one key attribute:\n",
    "> All hidden layers will have a [Leaky ReLu](https://pytorch.org/docs/stable/nn.html#torch.nn.LeakyReLU) activation function applied to their outputs.\n",
    "\n",
    "<img src='assets/gan_network.png' width=70% />\n",
    "\n",
    "#### Leaky ReLu\n",
    "\n",
    "We should use a leaky ReLU to allow gradients to flow backwards through the layer unimpeded. A leaky ReLU is like a normal ReLU, except that there is a small non-zero output for negative input values.\n",
    "\n",
    "<img src='assets/leaky_relu.png' width=40% />\n",
    "\n",
    "#### Sigmoid Output\n",
    "\n",
    "We'll also take the approach of using a more numerically stable loss function on the outputs. Recall that we want the discriminator to output a value 0-1 indicating whether an image is _real or fake_. \n",
    "> We will ultimately use [BCEWithLogitsLoss](https://pytorch.org/docs/stable/nn.html#bcewithlogitsloss), which combines a `sigmoid` activation function **and** and binary cross entropy loss in one function. \n",
    "\n",
    "So, our final output layer should not have any activation function applied to it."
   ]
  },
  {
   "cell_type": "code",
   "execution_count": 6,
   "metadata": {
    "collapsed": true
   },
   "outputs": [],
   "source": [
    "import torch.nn as nn\n",
    "import torch.nn.functional as F\n",
    "\n",
    "class Discriminator(nn.Module):\n",
    "\n",
    "    def __init__(self, input_size, hidden_dim, output_size):\n",
    "        super(Discriminator, self).__init__()\n",
    "        \n",
    "        # define all layers\n",
    "        self.fc1 = nn.Linear(input_size, hidden_dim*4)\n",
    "        self.fc2 = nn.Linear(hidden_dim*4, hidden_dim*2)\n",
    "        self.fc3 = nn.Linear(hidden_dim*2, hidden_dim)\n",
    "        self.fc4 = nn.Linear(hidden_dim, output_size)\n",
    "        \n",
    "        self.dropout = nn.Dropout(0.3)\n",
    "        \n",
    "    def forward(self, x):\n",
    "        # flatten image\n",
    "        x = x.view(-1, 28*28)\n",
    "        \n",
    "        # pass x through all layers\n",
    "        # apply leaky relu activation to all hidden layers\n",
    "        x = F.leaky_relu(self.fc1(x), 0.2)\n",
    "        x = self.dropout(x)\n",
    "        x = F.leaky_relu(self.fc2(x), 0.2)\n",
    "        x = self.dropout(x)\n",
    "        x = F.leaky_relu(self.fc3(x), 0.2)\n",
    "        x = self.dropout(x)\n",
    "        \n",
    "        x = self.fc4(x)\n",
    "        \n",
    "        return x\n"
   ]
  },
  {
   "cell_type": "markdown",
   "metadata": {},
   "source": [
    "## Generator\n",
    "\n",
    "The generator network will be almost exactly the same as the discriminator network, except that we're applying a [tanh activation function](https://pytorch.org/docs/stable/nn.html#tanh) to our output layer.\n",
    "\n",
    "#### tanh Output\n",
    "The generator has been found to perform the best with $tanh$ for the generator output, which scales the output to be between -1 and 1, instead of 0 and 1. \n",
    "\n",
    "<img src='assets/tanh_fn.png' width=40% />\n",
    "\n",
    "Recall that we also want these outputs to be comparable to the *real* input pixel values, which are read in as normalized values between 0 and 1. \n",
    "> So, we'll also have to **scale our real input images to have pixel values between -1 and 1** when we train the discriminator. \n",
    "\n",
    "I'll do this in the training loop, later on."
   ]
  },
  {
   "cell_type": "code",
   "execution_count": 27,
   "metadata": {
    "collapsed": true
   },
   "outputs": [],
   "source": [
    "class Generator(nn.Module):\n",
    "\n",
    "    def __init__(self, input_size, hidden_dim, output_size):\n",
    "        super(Generator, self).__init__()\n",
    "        \n",
    "        # define all layers\n",
    "        self.fc1 = nn.Linear(input_size, hidden_dim)\n",
    "        self.fc2 = nn.Linear(hidden_dim, hidden_dim*2)\n",
    "        self.fc3 = nn.Linear(hidden_dim*2, hidden_dim*4)\n",
    "        self.fc4 = nn.Linear(hidden_dim*4, output_size)\n",
    "        \n",
    "        self.dropout = nn.Dropout(0.3)\n",
    "\n",
    "    def forward(self, x):\n",
    "        # pass x through all layers\n",
    "        x = F.leaky_relu(self.fc1(x), 0.2)\n",
    "        x = self.dropout(x)\n",
    "        x = F.leaky_relu(self.fc2(x), 0.2)\n",
    "        x = self.dropout(x)\n",
    "        x = F.leaky_relu(self.fc3(x), 0.2)\n",
    "        x = self.dropout(x)\n",
    "                       \n",
    "        # final layer should have tanh applied\n",
    "        x = F.tanh(self.fc4(x))\n",
    "        \n",
    "        return x"
   ]
  },
  {
   "cell_type": "markdown",
   "metadata": {},
   "source": [
    "## Model hyperparameters"
   ]
  },
  {
   "cell_type": "code",
   "execution_count": 28,
   "metadata": {
    "collapsed": true
   },
   "outputs": [],
   "source": [
    "# Discriminator hyperparams\n",
    "\n",
    "# Size of input image to discriminator (28*28)\n",
    "input_size = 28*28\n",
    "# Size of discriminator output (real or fake)\n",
    "d_output_size = 1\n",
    "# Size of *last* hidden layer in the discriminator\n",
    "d_hidden_size = 32\n",
    "\n",
    "# Generator hyperparams\n",
    "\n",
    "# Size of latent vector to give to generator\n",
    "z_size = 100\n",
    "# Size of discriminator output (generated image)\n",
    "g_output_size = 28*28\n",
    "# Size of *first* hidden layer in the generator\n",
    "g_hidden_size = 32"
   ]
  },
  {
   "cell_type": "markdown",
   "metadata": {},
   "source": [
    "## Build complete network\n",
    "\n",
    "Now we're instantiating the discriminator and generator from the classes defined above. Make sure you've passed in the correct input arguments."
   ]
  },
  {
   "cell_type": "code",
   "execution_count": 29,
   "metadata": {},
   "outputs": [
    {
     "name": "stdout",
     "output_type": "stream",
     "text": [
      "Discriminator(\n",
      "  (fc1): Linear(in_features=784, out_features=128, bias=True)\n",
      "  (fc2): Linear(in_features=128, out_features=64, bias=True)\n",
      "  (fc3): Linear(in_features=64, out_features=32, bias=True)\n",
      "  (fc4): Linear(in_features=32, out_features=1, bias=True)\n",
      "  (dropout): Dropout(p=0.3)\n",
      ")\n",
      "\n",
      "Generator(\n",
      "  (fc1): Linear(in_features=100, out_features=32, bias=True)\n",
      "  (fc2): Linear(in_features=32, out_features=64, bias=True)\n",
      "  (fc3): Linear(in_features=64, out_features=128, bias=True)\n",
      "  (fc4): Linear(in_features=128, out_features=784, bias=True)\n",
      "  (dropout): Dropout(p=0.3)\n",
      ")\n"
     ]
    }
   ],
   "source": [
    "# instantiate discriminator and generator\n",
    "D = Discriminator(input_size, d_hidden_size, d_output_size)\n",
    "G = Generator(z_size, g_hidden_size, g_output_size)\n",
    "\n",
    "# check that they are as you expect\n",
    "print(D)\n",
    "print()\n",
    "print(G)"
   ]
  },
  {
   "cell_type": "markdown",
   "metadata": {},
   "source": [
    "---\n",
    "## Discriminator and Generator Losses\n",
    "\n",
    "Now we need to calculate the losses. \n",
    "\n",
    "### Discriminator Losses\n",
    "\n",
    "> * For the discriminator, the total loss is the sum of the losses for real and fake images, `d_loss = d_real_loss + d_fake_loss`. \n",
    "* Remember that we want the discriminator to output 1 for real images and 0 for fake images, so we need to set up the losses to reflect that.\n",
    "\n",
    "<img src='assets/gan_pipeline.png' width=70% />\n",
    "\n",
    "The losses will by binary cross entropy loss with logits, which we can get with [BCEWithLogitsLoss](https://pytorch.org/docs/stable/nn.html#bcewithlogitsloss). This combines a `sigmoid` activation function **and** and binary cross entropy loss in one function.\n",
    "\n",
    "For the real images, we want `D(real_images) = 1`. That is, we want the discriminator to classify the the real images with a label = 1, indicating that these are real. To help the discriminator generalize better, the labels are **reduced a bit from 1.0 to 0.9**. For this, we'll use the parameter `smooth`; if True, then we should smooth our labels. In PyTorch, this looks like `labels = torch.ones(size) * 0.9`\n",
    "\n",
    "The discriminator loss for the fake data is similar. We want `D(fake_images) = 0`, where the fake images are the _generator output_, `fake_images = G(z)`. \n",
    "\n",
    "### Generator Loss\n",
    "\n",
    "The generator loss will look similar only with flipped labels. The generator's goal is to get `D(fake_images) = 1`. In this case, the labels are **flipped** to represent that the generator is trying to fool the discriminator into thinking that the images it generates (fakes) are real!"
   ]
  },
  {
   "cell_type": "code",
   "execution_count": 30,
   "metadata": {
    "collapsed": true
   },
   "outputs": [],
   "source": [
    "# Calculate losses\n",
    "def real_loss(D_out, smooth=False):\n",
    "    batch_size = D_out.size(0)\n",
    "    # compare logits to real labels\n",
    "    # smooth labels if smooth=True\n",
    "    if smooth:\n",
    "        labels = torch.ones(batch_size) * 0.9\n",
    "    else:\n",
    "        labels = torch.ones(batch_size)\n",
    "    \n",
    "    criterion = nn.BCEWithLogitsLoss()\n",
    "    loss = criterion(D_out.squeeze(), labels)\n",
    " \n",
    "    return loss\n",
    "\n",
    "def fake_loss(D_out):\n",
    "    batch_size = D_out.size(0)\n",
    "    # compare logits to fake labels\n",
    "    labels = torch.zeros(batch_size)\n",
    "    \n",
    "    criterion = nn.BCEWithLogitsLoss()\n",
    "    loss = criterion(D_out.squeeze(), labels)\n",
    "    \n",
    "    return loss"
   ]
  },
  {
   "cell_type": "markdown",
   "metadata": {},
   "source": [
    "## Optimizers\n",
    "\n",
    "We want to update the generator and discriminator variables separately. So, we'll define two separate Adam optimizers."
   ]
  },
  {
   "cell_type": "code",
   "execution_count": 31,
   "metadata": {
    "scrolled": true
   },
   "outputs": [],
   "source": [
    "import torch.optim as optim\n",
    "\n",
    "# learning rate for optimizers\n",
    "lr = 0.002\n",
    "\n",
    "# Create optimizers for the discriminator and generator\n",
    "d_optimizer = optim.Adam(D.parameters(), lr)\n",
    "g_optimizer = optim.Adam(G.parameters(), lr)"
   ]
  },
  {
   "cell_type": "markdown",
   "metadata": {},
   "source": [
    "---\n",
    "## Training\n",
    "\n",
    "Training will involve alternating between training the discriminator and the generator. We'll use our functions `real_loss` and `fake_loss` to help us calculate the discriminator losses in all of the following cases.\n",
    "\n",
    "### Discriminator training\n",
    "1. Compute the discriminator loss on real, training images        \n",
    "2. Generate fake images\n",
    "3. Compute the discriminator loss on fake, generated images     \n",
    "4. Add up real and fake loss\n",
    "5. Perform backpropagation + an optimization step to update the discriminator's weights\n",
    "\n",
    "### Generator training\n",
    "1. Generate fake images\n",
    "2. Compute the discriminator loss on fake images, using **flipped** labels!\n",
    "3. Perform backpropagation + an optimization step to update the generator's weights\n",
    "\n",
    "#### Saving Samples\n",
    "\n",
    "As we train, we'll also print out some loss statistics and save some generated \"fake\" samples."
   ]
  },
  {
   "cell_type": "code",
   "execution_count": 37,
   "metadata": {
    "scrolled": true
   },
   "outputs": [
    {
     "name": "stderr",
     "output_type": "stream",
     "text": [
      "C:\\Users\\kuber.gaur\\AppData\\Local\\conda\\conda\\envs\\py35\\lib\\site-packages\\torch\\nn\\functional.py:995: UserWarning: nn.functional.tanh is deprecated. Use torch.tanh instead.\n",
      "  warnings.warn(\"nn.functional.tanh is deprecated. Use torch.tanh instead.\")\n"
     ]
    },
    {
     "name": "stdout",
     "output_type": "stream",
     "text": [
      "Epoch [    1/  100] | d_loss: 1.1629 | g_loss: 0.9181\n",
      "Epoch [    1/  100] | d_loss: 1.2199 | g_loss: 0.8962\n",
      "Epoch [    2/  100] | d_loss: 1.2165 | g_loss: 1.4489\n",
      "Epoch [    2/  100] | d_loss: 1.2153 | g_loss: 1.0506\n",
      "Epoch [    3/  100] | d_loss: 1.3132 | g_loss: 1.0481\n",
      "Epoch [    3/  100] | d_loss: 1.2162 | g_loss: 1.0447\n",
      "Epoch [    4/  100] | d_loss: 1.1566 | g_loss: 1.0347\n",
      "Epoch [    4/  100] | d_loss: 1.3116 | g_loss: 1.0735\n",
      "Epoch [    5/  100] | d_loss: 1.2970 | g_loss: 1.0629\n",
      "Epoch [    5/  100] | d_loss: 1.2296 | g_loss: 1.0466\n",
      "Epoch [    6/  100] | d_loss: 1.3266 | g_loss: 1.0375\n",
      "Epoch [    6/  100] | d_loss: 1.2040 | g_loss: 1.1962\n",
      "Epoch [    7/  100] | d_loss: 1.2587 | g_loss: 1.5049\n",
      "Epoch [    7/  100] | d_loss: 1.1750 | g_loss: 0.8760\n",
      "Epoch [    8/  100] | d_loss: 1.2780 | g_loss: 1.1435\n",
      "Epoch [    8/  100] | d_loss: 1.2503 | g_loss: 1.1607\n",
      "Epoch [    9/  100] | d_loss: 1.2266 | g_loss: 0.9601\n",
      "Epoch [    9/  100] | d_loss: 1.0846 | g_loss: 1.0975\n",
      "Epoch [   10/  100] | d_loss: 1.2489 | g_loss: 1.6301\n",
      "Epoch [   10/  100] | d_loss: 1.2457 | g_loss: 0.9691\n",
      "Epoch [   11/  100] | d_loss: 1.1838 | g_loss: 1.3864\n",
      "Epoch [   11/  100] | d_loss: 1.2238 | g_loss: 1.1124\n",
      "Epoch [   12/  100] | d_loss: 1.2011 | g_loss: 1.2989\n",
      "Epoch [   12/  100] | d_loss: 1.2334 | g_loss: 1.0740\n",
      "Epoch [   13/  100] | d_loss: 1.3314 | g_loss: 1.3161\n",
      "Epoch [   13/  100] | d_loss: 1.2468 | g_loss: 1.1420\n",
      "Epoch [   14/  100] | d_loss: 1.0535 | g_loss: 1.4771\n",
      "Epoch [   14/  100] | d_loss: 1.2707 | g_loss: 1.2788\n",
      "Epoch [   15/  100] | d_loss: 1.2958 | g_loss: 0.9040\n",
      "Epoch [   15/  100] | d_loss: 1.2082 | g_loss: 1.1583\n",
      "Epoch [   16/  100] | d_loss: 1.1891 | g_loss: 1.1811\n",
      "Epoch [   16/  100] | d_loss: 1.3731 | g_loss: 1.0244\n",
      "Epoch [   17/  100] | d_loss: 1.2094 | g_loss: 1.3105\n",
      "Epoch [   17/  100] | d_loss: 1.2105 | g_loss: 1.2874\n",
      "Epoch [   18/  100] | d_loss: 1.3329 | g_loss: 1.8427\n",
      "Epoch [   18/  100] | d_loss: 1.2276 | g_loss: 1.1393\n",
      "Epoch [   19/  100] | d_loss: 1.2660 | g_loss: 1.0646\n",
      "Epoch [   19/  100] | d_loss: 1.4064 | g_loss: 1.2550\n",
      "Epoch [   20/  100] | d_loss: 1.1211 | g_loss: 1.3732\n",
      "Epoch [   20/  100] | d_loss: 1.1487 | g_loss: 1.2306\n",
      "Epoch [   21/  100] | d_loss: 1.1169 | g_loss: 1.2398\n",
      "Epoch [   21/  100] | d_loss: 1.2348 | g_loss: 1.0890\n",
      "Epoch [   22/  100] | d_loss: 1.1571 | g_loss: 1.8314\n",
      "Epoch [   22/  100] | d_loss: 1.3088 | g_loss: 1.0182\n",
      "Epoch [   23/  100] | d_loss: 1.1850 | g_loss: 1.0307\n",
      "Epoch [   23/  100] | d_loss: 1.1054 | g_loss: 1.0772\n",
      "Epoch [   24/  100] | d_loss: 1.2277 | g_loss: 1.0298\n",
      "Epoch [   24/  100] | d_loss: 1.1847 | g_loss: 1.4027\n",
      "Epoch [   25/  100] | d_loss: 1.2068 | g_loss: 1.0085\n",
      "Epoch [   25/  100] | d_loss: 1.1824 | g_loss: 1.1066\n",
      "Epoch [   26/  100] | d_loss: 1.2807 | g_loss: 0.9504\n",
      "Epoch [   26/  100] | d_loss: 1.2281 | g_loss: 1.0337\n",
      "Epoch [   27/  100] | d_loss: 1.2829 | g_loss: 1.2218\n",
      "Epoch [   27/  100] | d_loss: 1.3344 | g_loss: 1.1809\n",
      "Epoch [   28/  100] | d_loss: 1.1138 | g_loss: 1.3218\n",
      "Epoch [   28/  100] | d_loss: 1.1551 | g_loss: 1.0153\n",
      "Epoch [   29/  100] | d_loss: 1.2546 | g_loss: 1.1398\n",
      "Epoch [   29/  100] | d_loss: 1.2138 | g_loss: 1.0250\n",
      "Epoch [   30/  100] | d_loss: 1.2674 | g_loss: 1.3506\n",
      "Epoch [   30/  100] | d_loss: 1.1674 | g_loss: 1.1633\n",
      "Epoch [   31/  100] | d_loss: 1.2211 | g_loss: 1.3052\n",
      "Epoch [   31/  100] | d_loss: 1.2729 | g_loss: 1.1824\n",
      "Epoch [   32/  100] | d_loss: 1.2665 | g_loss: 1.2091\n",
      "Epoch [   32/  100] | d_loss: 1.2173 | g_loss: 1.3196\n",
      "Epoch [   33/  100] | d_loss: 1.2838 | g_loss: 1.1010\n",
      "Epoch [   33/  100] | d_loss: 1.2259 | g_loss: 1.2853\n",
      "Epoch [   34/  100] | d_loss: 1.2862 | g_loss: 1.4130\n",
      "Epoch [   34/  100] | d_loss: 1.2305 | g_loss: 1.2985\n",
      "Epoch [   35/  100] | d_loss: 1.2470 | g_loss: 1.1721\n",
      "Epoch [   35/  100] | d_loss: 1.2894 | g_loss: 1.0712\n",
      "Epoch [   36/  100] | d_loss: 1.2837 | g_loss: 1.1483\n",
      "Epoch [   36/  100] | d_loss: 1.2595 | g_loss: 1.2972\n",
      "Epoch [   37/  100] | d_loss: 1.3299 | g_loss: 1.2434\n",
      "Epoch [   37/  100] | d_loss: 1.2649 | g_loss: 1.4298\n",
      "Epoch [   38/  100] | d_loss: 1.3421 | g_loss: 1.1327\n",
      "Epoch [   38/  100] | d_loss: 1.1153 | g_loss: 1.3157\n",
      "Epoch [   39/  100] | d_loss: 1.2466 | g_loss: 1.0896\n",
      "Epoch [   39/  100] | d_loss: 1.1491 | g_loss: 1.1988\n",
      "Epoch [   40/  100] | d_loss: 1.2680 | g_loss: 1.3045\n",
      "Epoch [   40/  100] | d_loss: 1.1498 | g_loss: 1.1427\n",
      "Epoch [   41/  100] | d_loss: 1.2702 | g_loss: 1.3065\n",
      "Epoch [   41/  100] | d_loss: 1.2378 | g_loss: 1.0248\n",
      "Epoch [   42/  100] | d_loss: 1.2081 | g_loss: 1.2483\n",
      "Epoch [   42/  100] | d_loss: 1.3497 | g_loss: 1.0941\n",
      "Epoch [   43/  100] | d_loss: 1.3293 | g_loss: 1.3184\n",
      "Epoch [   43/  100] | d_loss: 1.3400 | g_loss: 1.3103\n",
      "Epoch [   44/  100] | d_loss: 1.2973 | g_loss: 1.2224\n",
      "Epoch [   44/  100] | d_loss: 1.1606 | g_loss: 1.3207\n",
      "Epoch [   45/  100] | d_loss: 1.2995 | g_loss: 1.2219\n",
      "Epoch [   45/  100] | d_loss: 1.1794 | g_loss: 0.9072\n",
      "Epoch [   46/  100] | d_loss: 1.3015 | g_loss: 0.9464\n",
      "Epoch [   46/  100] | d_loss: 1.2318 | g_loss: 1.2482\n",
      "Epoch [   47/  100] | d_loss: 1.2714 | g_loss: 1.2820\n",
      "Epoch [   47/  100] | d_loss: 1.2625 | g_loss: 1.2061\n",
      "Epoch [   48/  100] | d_loss: 1.2410 | g_loss: 1.4960\n",
      "Epoch [   48/  100] | d_loss: 1.1893 | g_loss: 1.2134\n",
      "Epoch [   49/  100] | d_loss: 1.2536 | g_loss: 1.0455\n",
      "Epoch [   49/  100] | d_loss: 1.2684 | g_loss: 1.4495\n",
      "Epoch [   50/  100] | d_loss: 1.1601 | g_loss: 1.4117\n",
      "Epoch [   50/  100] | d_loss: 1.1400 | g_loss: 1.2069\n",
      "Epoch [   51/  100] | d_loss: 1.3632 | g_loss: 1.1369\n",
      "Epoch [   51/  100] | d_loss: 1.2040 | g_loss: 1.1438\n",
      "Epoch [   52/  100] | d_loss: 1.2718 | g_loss: 1.4204\n",
      "Epoch [   52/  100] | d_loss: 1.3608 | g_loss: 1.4656\n",
      "Epoch [   53/  100] | d_loss: 1.1862 | g_loss: 0.9843\n",
      "Epoch [   53/  100] | d_loss: 1.3060 | g_loss: 1.4149\n",
      "Epoch [   54/  100] | d_loss: 1.2616 | g_loss: 0.9352\n",
      "Epoch [   54/  100] | d_loss: 1.1228 | g_loss: 1.5084\n",
      "Epoch [   55/  100] | d_loss: 1.2059 | g_loss: 1.0003\n",
      "Epoch [   55/  100] | d_loss: 1.1813 | g_loss: 1.1017\n",
      "Epoch [   56/  100] | d_loss: 1.3652 | g_loss: 1.5947\n",
      "Epoch [   56/  100] | d_loss: 1.2418 | g_loss: 1.4183\n",
      "Epoch [   57/  100] | d_loss: 1.1471 | g_loss: 1.2270\n",
      "Epoch [   57/  100] | d_loss: 1.1066 | g_loss: 1.4630\n",
      "Epoch [   58/  100] | d_loss: 1.3168 | g_loss: 1.0663\n",
      "Epoch [   58/  100] | d_loss: 1.1683 | g_loss: 1.3599\n",
      "Epoch [   59/  100] | d_loss: 1.1528 | g_loss: 0.9719\n",
      "Epoch [   59/  100] | d_loss: 1.2072 | g_loss: 1.0765\n",
      "Epoch [   60/  100] | d_loss: 1.2765 | g_loss: 1.2693\n",
      "Epoch [   60/  100] | d_loss: 1.2312 | g_loss: 1.1758\n",
      "Epoch [   61/  100] | d_loss: 1.2326 | g_loss: 1.1268\n",
      "Epoch [   61/  100] | d_loss: 1.2315 | g_loss: 1.2518\n",
      "Epoch [   62/  100] | d_loss: 1.2576 | g_loss: 1.4877\n",
      "Epoch [   62/  100] | d_loss: 1.1697 | g_loss: 1.2768\n",
      "Epoch [   63/  100] | d_loss: 1.2265 | g_loss: 1.4695\n",
      "Epoch [   63/  100] | d_loss: 1.1682 | g_loss: 1.0473\n",
      "Epoch [   64/  100] | d_loss: 1.2521 | g_loss: 1.2477\n",
      "Epoch [   64/  100] | d_loss: 1.1802 | g_loss: 1.0803\n",
      "Epoch [   65/  100] | d_loss: 1.2423 | g_loss: 0.9712\n",
      "Epoch [   65/  100] | d_loss: 1.1505 | g_loss: 1.1262\n",
      "Epoch [   66/  100] | d_loss: 1.2719 | g_loss: 1.4558\n",
      "Epoch [   66/  100] | d_loss: 1.1508 | g_loss: 1.0428\n",
      "Epoch [   67/  100] | d_loss: 1.1403 | g_loss: 0.9899\n",
      "Epoch [   67/  100] | d_loss: 1.1546 | g_loss: 1.0825\n",
      "Epoch [   68/  100] | d_loss: 1.2113 | g_loss: 1.2315\n",
      "Epoch [   68/  100] | d_loss: 1.2037 | g_loss: 1.2164\n",
      "Epoch [   69/  100] | d_loss: 1.2633 | g_loss: 1.2784\n",
      "Epoch [   69/  100] | d_loss: 1.1900 | g_loss: 1.1386\n",
      "Epoch [   70/  100] | d_loss: 1.1930 | g_loss: 1.1850\n",
      "Epoch [   70/  100] | d_loss: 1.1599 | g_loss: 1.1034\n",
      "Epoch [   71/  100] | d_loss: 1.2830 | g_loss: 1.2324\n",
      "Epoch [   71/  100] | d_loss: 1.3451 | g_loss: 1.4555\n",
      "Epoch [   72/  100] | d_loss: 1.2793 | g_loss: 1.3754\n",
      "Epoch [   72/  100] | d_loss: 1.1609 | g_loss: 1.4079\n",
      "Epoch [   73/  100] | d_loss: 1.1905 | g_loss: 1.2924\n",
      "Epoch [   73/  100] | d_loss: 1.1893 | g_loss: 1.2474\n",
      "Epoch [   74/  100] | d_loss: 1.2361 | g_loss: 0.9919\n",
      "Epoch [   74/  100] | d_loss: 1.1400 | g_loss: 1.1788\n",
      "Epoch [   75/  100] | d_loss: 1.2726 | g_loss: 1.3393\n",
      "Epoch [   75/  100] | d_loss: 1.1074 | g_loss: 1.4567\n",
      "Epoch [   76/  100] | d_loss: 1.3573 | g_loss: 1.1988\n",
      "Epoch [   76/  100] | d_loss: 1.2958 | g_loss: 1.3338\n"
     ]
    },
    {
     "name": "stdout",
     "output_type": "stream",
     "text": [
      "Epoch [   77/  100] | d_loss: 1.2012 | g_loss: 1.5513\n",
      "Epoch [   77/  100] | d_loss: 1.1745 | g_loss: 1.3280\n",
      "Epoch [   78/  100] | d_loss: 1.0801 | g_loss: 1.7590\n",
      "Epoch [   78/  100] | d_loss: 1.1136 | g_loss: 1.2171\n",
      "Epoch [   79/  100] | d_loss: 1.2706 | g_loss: 1.1114\n",
      "Epoch [   79/  100] | d_loss: 1.1257 | g_loss: 1.0665\n",
      "Epoch [   80/  100] | d_loss: 1.2147 | g_loss: 1.3100\n",
      "Epoch [   80/  100] | d_loss: 1.3398 | g_loss: 1.3389\n",
      "Epoch [   81/  100] | d_loss: 1.2132 | g_loss: 0.8981\n",
      "Epoch [   81/  100] | d_loss: 1.1968 | g_loss: 1.2786\n",
      "Epoch [   82/  100] | d_loss: 1.1875 | g_loss: 1.3645\n",
      "Epoch [   82/  100] | d_loss: 1.3625 | g_loss: 1.0594\n",
      "Epoch [   83/  100] | d_loss: 1.2185 | g_loss: 1.3211\n",
      "Epoch [   83/  100] | d_loss: 1.1481 | g_loss: 1.0747\n",
      "Epoch [   84/  100] | d_loss: 1.2294 | g_loss: 1.0942\n",
      "Epoch [   84/  100] | d_loss: 1.2580 | g_loss: 1.3852\n",
      "Epoch [   85/  100] | d_loss: 1.1401 | g_loss: 1.7096\n",
      "Epoch [   85/  100] | d_loss: 1.0867 | g_loss: 1.3385\n",
      "Epoch [   86/  100] | d_loss: 1.2337 | g_loss: 1.0993\n",
      "Epoch [   86/  100] | d_loss: 1.2597 | g_loss: 1.1026\n",
      "Epoch [   87/  100] | d_loss: 1.3621 | g_loss: 1.5978\n",
      "Epoch [   87/  100] | d_loss: 1.2465 | g_loss: 1.2098\n",
      "Epoch [   88/  100] | d_loss: 1.2920 | g_loss: 1.3776\n",
      "Epoch [   88/  100] | d_loss: 1.2280 | g_loss: 1.3482\n",
      "Epoch [   89/  100] | d_loss: 1.3456 | g_loss: 1.3531\n",
      "Epoch [   89/  100] | d_loss: 1.2679 | g_loss: 1.0926\n",
      "Epoch [   90/  100] | d_loss: 1.3098 | g_loss: 1.1614\n",
      "Epoch [   90/  100] | d_loss: 1.1694 | g_loss: 1.3832\n",
      "Epoch [   91/  100] | d_loss: 1.2488 | g_loss: 1.2602\n",
      "Epoch [   91/  100] | d_loss: 1.2021 | g_loss: 1.0647\n",
      "Epoch [   92/  100] | d_loss: 1.2764 | g_loss: 1.1347\n",
      "Epoch [   92/  100] | d_loss: 1.0775 | g_loss: 1.1844\n",
      "Epoch [   93/  100] | d_loss: 1.3275 | g_loss: 1.0542\n",
      "Epoch [   93/  100] | d_loss: 1.2260 | g_loss: 0.9999\n",
      "Epoch [   94/  100] | d_loss: 1.1779 | g_loss: 1.1084\n",
      "Epoch [   94/  100] | d_loss: 1.2179 | g_loss: 1.0249\n",
      "Epoch [   95/  100] | d_loss: 1.1846 | g_loss: 1.1481\n",
      "Epoch [   95/  100] | d_loss: 1.1146 | g_loss: 1.5529\n",
      "Epoch [   96/  100] | d_loss: 1.2515 | g_loss: 1.1663\n",
      "Epoch [   96/  100] | d_loss: 1.1208 | g_loss: 1.5827\n",
      "Epoch [   97/  100] | d_loss: 1.2002 | g_loss: 1.3115\n",
      "Epoch [   97/  100] | d_loss: 1.2044 | g_loss: 1.2881\n",
      "Epoch [   98/  100] | d_loss: 1.2689 | g_loss: 1.3991\n",
      "Epoch [   98/  100] | d_loss: 1.2166 | g_loss: 1.3445\n",
      "Epoch [   99/  100] | d_loss: 1.2590 | g_loss: 1.2099\n",
      "Epoch [   99/  100] | d_loss: 1.1208 | g_loss: 1.2410\n",
      "Epoch [  100/  100] | d_loss: 1.2831 | g_loss: 1.1239\n",
      "Epoch [  100/  100] | d_loss: 1.1859 | g_loss: 0.9576\n"
     ]
    }
   ],
   "source": [
    "import pickle as pkl\n",
    "\n",
    "# training hyperparams\n",
    "num_epochs = 100\n",
    "\n",
    "# keep track of loss and generated, \"fake\" samples\n",
    "samples = []\n",
    "losses = []\n",
    "\n",
    "print_every = 600\n",
    "\n",
    "# Get some fixed data for sampling. These are images that are held\n",
    "# constant throughout training, and allow us to inspect the model's performance\n",
    "sample_size=16\n",
    "fixed_z = np.random.uniform(-1, 1, size=(sample_size, z_size))\n",
    "fixed_z = torch.from_numpy(fixed_z).float()\n",
    "\n",
    "# train the network\n",
    "D.train()\n",
    "G.train()\n",
    "for epoch in range(num_epochs):\n",
    "    \n",
    "    for batch_i, (real_images, _) in enumerate(train_loader):\n",
    "                \n",
    "        batch_size = real_images.size(0)\n",
    "        \n",
    "        ## Important rescaling step ## \n",
    "        real_images = real_images*2 - 1  # rescale input images from [0,1) to [-1, 1)\n",
    "        \n",
    "        # ============================================\n",
    "        #            TRAIN THE DISCRIMINATOR\n",
    "        # ============================================\n",
    "        \n",
    "        d_optimizer.zero_grad()\n",
    "        \n",
    "        # 1. Train with real images\n",
    "\n",
    "        # Compute the discriminator losses on real images \n",
    "        # smooth the real labels\n",
    "        D_real = D(real_images)\n",
    "        d_real_loss = real_loss(D_real, smooth=True)\n",
    "        \n",
    "        # 2. Train with fake images\n",
    "        \n",
    "        # Generate fake images\n",
    "        z = np.random.uniform(-1, 1, size=(batch_size, z_size))\n",
    "        z = torch.from_numpy(z).float()\n",
    "        fake_images = G(z)\n",
    "        \n",
    "        # Compute the discriminator losses on fake images        \n",
    "        D_fake = D(fake_images)\n",
    "        d_fake_loss = fake_loss(D_fake)\n",
    "        \n",
    "        # add up loss and perform backprop\n",
    "        d_loss = d_real_loss + d_fake_loss\n",
    "        d_loss.backward()\n",
    "        d_optimizer.step()\n",
    "        \n",
    "        \n",
    "        # =========================================\n",
    "        #            TRAIN THE GENERATOR\n",
    "        # =========================================\n",
    "        g_optimizer.zero_grad()\n",
    "        \n",
    "        # 1. Train with fake images and flipped labels\n",
    "        \n",
    "        # Generate fake images\n",
    "        z = np.random.uniform(-1, 1, size=(batch_size, z_size))\n",
    "        z = torch.from_numpy(z).float()\n",
    "        fake_images = G(z)\n",
    "        \n",
    "        # Compute the discriminator losses on fake images \n",
    "        # using flipped labels!\n",
    "        D_fake = D(fake_images)\n",
    "        g_loss = real_loss(D_fake) # use real loss to flip labels\n",
    "        \n",
    "        # perform backprop\n",
    "        g_loss.backward()\n",
    "        g_optimizer.step()\n",
    "\n",
    "        # Print some loss stats\n",
    "        if batch_i % print_every == 0:\n",
    "            # print discriminator and generator loss\n",
    "            print('Epoch [{:5d}/{:5d}] | d_loss: {:6.4f} | g_loss: {:6.4f}'.format(\n",
    "                    epoch+1, num_epochs, d_loss.item(), g_loss.item()))\n",
    "\n",
    "    \n",
    "    ## AFTER EACH EPOCH##\n",
    "    # append discriminator loss and generator loss\n",
    "    losses.append((d_loss.item(), g_loss.item()))\n",
    "    \n",
    "    # generate and save sample, fake images\n",
    "    G.eval() # eval mode for generating samples\n",
    "    samples_z = G(fixed_z)\n",
    "    samples.append(samples_z)\n",
    "    G.train() # back to train mode\n",
    "\n",
    "\n",
    "# Save training generator samples\n",
    "with open('train_samples.pkl', 'wb') as f:\n",
    "    pkl.dump(samples, f)"
   ]
  },
  {
   "cell_type": "markdown",
   "metadata": {},
   "source": [
    "## Training loss\n",
    "\n",
    "Here we'll plot the training losses for the generator and discriminator, recorded after each epoch."
   ]
  },
  {
   "cell_type": "code",
   "execution_count": 38,
   "metadata": {},
   "outputs": [
    {
     "data": {
      "text/plain": [
       "<matplotlib.legend.Legend at 0x121a0324e10>"
      ]
     },
     "execution_count": 38,
     "metadata": {},
     "output_type": "execute_result"
    },
    {
     "data": {
      "image/png": "[encoded data removed]",
      "text/plain": [
       "<matplotlib.figure.Figure at 0x121a02f70b8>"
      ]
     },
     "metadata": {},
     "output_type": "display_data"
    }
   ],
   "source": [
    "fig, ax = plt.subplots()\n",
    "losses = np.array(losses)\n",
    "plt.plot(losses.T[0], label='Discriminator')\n",
    "plt.plot(losses.T[1], label='Generator')\n",
    "plt.title(\"Training Losses\")\n",
    "plt.legend()"
   ]
  },
  {
   "cell_type": "markdown",
   "metadata": {},
   "source": [
    "## Generator samples from training\n",
    "\n",
    "Here we can view samples of images from the generator. First we'll look at the images we saved during training."
   ]
  },
  {
   "cell_type": "code",
   "execution_count": null,
   "metadata": {
    "collapsed": true
   },
   "outputs": [],
   "source": [
    "# helper function for viewing a list of passed in sample images\n",
    "def view_samples(epoch, samples):\n",
    "    fig, axes = plt.subplots(figsize=(7,7), nrows=4, ncols=4, sharey=True, sharex=True)\n",
    "    for ax, img in zip(axes.flatten(), samples[epoch]):\n",
    "        img = img.detach()\n",
    "        ax.xaxis.set_visible(False)\n",
    "        ax.yaxis.set_visible(False)\n",
    "        im = ax.imshow(img.reshape((28,28)), cmap='Greys_r')"
   ]
  },
  {
   "cell_type": "code",
   "execution_count": null,
   "metadata": {
    "collapsed": true
   },
   "outputs": [],
   "source": [
    "# Load samples from generator, taken while training\n",
    "with open('train_samples.pkl', 'rb') as f:\n",
    "    samples = pkl.load(f)"
   ]
  },
  {
   "cell_type": "markdown",
   "metadata": {},
   "source": [
    "These are samples from the final training epoch. You can see the generator is able to reproduce numbers like 1, 7, 3, 2. Since this is just a sample, it isn't representative of the full range of images this generator can make."
   ]
  },
  {
   "cell_type": "code",
   "execution_count": null,
   "metadata": {
    "collapsed": true
   },
   "outputs": [],
   "source": [
    "# -1 indicates final epoch's samples (the last in the list)\n",
    "view_samples(-1, samples)"
   ]
  },
  {
   "cell_type": "markdown",
   "metadata": {},
   "source": [
    "Below I'm showing the generated images as the network was training, every 10 epochs."
   ]
  },
  {
   "cell_type": "code",
   "execution_count": null,
   "metadata": {
    "collapsed": true
   },
   "outputs": [],
   "source": [
    "rows = 10 # split epochs into 10, so 100/10 = every 10 epochs\n",
    "cols = 6\n",
    "fig, axes = plt.subplots(figsize=(7,12), nrows=rows, ncols=cols, sharex=True, sharey=True)\n",
    "\n",
    "for sample, ax_row in zip(samples[::int(len(samples)/rows)], axes):\n",
    "    for img, ax in zip(sample[::int(len(sample)/cols)], ax_row):\n",
    "        img = img.detach()\n",
    "        ax.imshow(img.reshape((28,28)), cmap='Greys_r')\n",
    "        ax.xaxis.set_visible(False)\n",
    "        ax.yaxis.set_visible(False)"
   ]
  },
  {
   "cell_type": "markdown",
   "metadata": {},
   "source": [
    "It starts out as all noise. Then it learns to make only the center white and the rest black. You can start to see some number like structures appear out of the noise like 1s and 9s."
   ]
  },
  {
   "cell_type": "markdown",
   "metadata": {},
   "source": [
    "## Sampling from the generator\n",
    "\n",
    "We can also get completely new images from the generator by using the checkpoint we saved after training. **We just need to pass in a new latent vector $z$ and we'll get new samples**!"
   ]
  },
  {
   "cell_type": "code",
   "execution_count": null,
   "metadata": {
    "collapsed": true
   },
   "outputs": [],
   "source": [
    "# randomly generated, new latent vectors\n",
    "sample_size=16\n",
    "rand_z = np.random.uniform(-1, 1, size=(sample_size, z_size))\n",
    "rand_z = torch.from_numpy(rand_z).float()\n",
    "\n",
    "G.eval() # eval mode\n",
    "# generated samples\n",
    "rand_images = G(rand_z)\n",
    "\n",
    "# 0 indicates the first set of samples in the passed in list\n",
    "# and we only have one batch of samples, here\n",
    "view_samples(0, [rand_images])"
   ]
  }
 ],
 "metadata": {
  "kernelspec": {
   "display_name": "Python 3",
   "language": "python",
   "name": "python3"
  },
  "language_info": {
   "codemirror_mode": {
    "name": "ipython",
    "version": 3
   },
   "file_extension": ".py",
   "mimetype": "text/x-python",
   "name": "python",
   "nbconvert_exporter": "python",
   "pygments_lexer": "ipython3",
   "version": "3.5.4"
  }
 },
 "nbformat": 4,
 "nbformat_minor": 2
}
